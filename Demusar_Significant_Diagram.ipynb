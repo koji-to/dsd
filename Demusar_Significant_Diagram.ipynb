{
 "cells": [
  {
   "cell_type": "markdown",
   "metadata": {},
   "source": [
    "# 概要\n",
    "Demusar Significant Diabramの実行手順の説明\n",
    "\n",
    "# で，Demusar Significant Diagramって何？\n",
    "例えば，複数の機械学習モデルの性能を複数のデータを使って比較したいとき，データとの相性等の問題でモデルの性能が安定しない場合がある．\n",
    "\n",
    "そのような場合にデータに依存せずモデルの性能を順位ベースで比較し，有意差検定を実施するための手法．\n",
    "\n",
    "# で，何がうれしいの？\n",
    "有意差の有無がグラフから見えるようになるので分かりやすい．\n",
    "\n",
    "あと順位を使うので奥様うっとりノンパラメトリック検定．\n",
    "\n",
    "\n",
    "\n",
    "### 以降，以下のデータ（実験結果）を用いて説明していく\n",
    "比較したいモデルが5種類（modelA～E）あり，性能評価に用いるデータが6種類（dataA～F）ある場合を考える．\n",
    "\n",
    "ここで**数値が小さいほうが性能が高い**指標を用いているとする．"
   ]
  },
  {
   "cell_type": "code",
   "execution_count": null,
   "metadata": {},
   "outputs": [],
   "source": [
    "import pandas as pd\n",
    "df = pd.DataFrame({'data_A' : [0.621, 0.661, 0.608, 0.821, 1.028],\n",
    "                   'data_B' : [0.892, 0.820, 0.626, 0.828, 0.898],\n",
    "                   'data_C' : [0.740, 0.911, 0.524, 0.821, 0.846],\n",
    "                   'data_D' : [0.701, 0.628, 0.648, 0.764, 0.680],\n",
    "                   'data_E' : [0.834, 1.042, 0.544, 0.810, 0.846],\n",
    "                   'data_F' : [1.002, 0.862, 0.806, 0.884, 0.901]},\n",
    "                   index=['Model_A','Model_B','Model_C','Model_D','Model_E'])\n",
    "print(df)\n",
    "# 行列が入れ替わっててちょっとわかりにくい．"
   ]
  },
  {
   "cell_type": "markdown",
   "metadata": {},
   "source": [
    "表から，例えばmodel_Aでdata_Aを予測した場合の性能が0.621ということになる．\n",
    "\n",
    "まず数値を列（データ）ごとの順位に変換し，行（モデル）ごとの平均値を算出する．変換した結果が以下．\n",
    "\n",
    "なお，ここでは数値が小さければ順位が高い場合（昇順）を想定している．\n",
    "\n",
    "逆に降順で順位を付ける場合には`model_rank=df.rank(ascending=False).mean(axis='columns')`とすること"
   ]
  },
  {
   "cell_type": "code",
   "execution_count": null,
   "metadata": {},
   "outputs": [],
   "source": [
    "print('データごとのモデルの順位:')\n",
    "print(df.rank())\n",
    "model_rank=df.rank().mean(axis='columns')\n",
    "print('モデルの平均順位:')\n",
    "print(model_rank)"
   ]
  },
  {
   "cell_type": "markdown",
   "metadata": {},
   "source": [
    "Nemenyi testで用いるCritical values算出のためのq_aの表を読み込む．表の出典は\n",
    "\n",
    "https://kourentzes.com/forecasting/2014/05/01/critical-values-for-the-nemenyi-test/\n",
    "    "
   ]
  },
  {
   "cell_type": "code",
   "execution_count": null,
   "metadata": {
    "collapsed": true
   },
   "outputs": [],
   "source": [
    "q_a_tb = pd.read_csv('http://kourentzes.com/forecasting/wp-content/uploads/2014/05/nemenyi.csv',index_col=0)"
   ]
  },
  {
   "cell_type": "markdown",
   "metadata": {},
   "source": [
    "今回の実験に対応する$q_a$を取得する．今回のモデルは5種類で，有意水準は5%とする．"
   ]
  },
  {
   "cell_type": "code",
   "execution_count": null,
   "metadata": {},
   "outputs": [],
   "source": [
    "q_a = q_a_tb.at[q_a_tb.index[len(df)-2],'Nemenyi 0.05']\n",
    "print('q_a =', q_a)"
   ]
  },
  {
   "cell_type": "markdown",
   "metadata": {},
   "source": [
    "CD (Critical Distance) を算出する．算出式は以下\n",
    "$$\n",
    "CD=q_a \\times \\sqrt{\\frac{num\\_model (num\\_model+1)}{6 \\times num\\_data}}\n",
    "$$\n",
    "num_data: データの種類数，num_model: モデル数\n",
    "\n",
    "式から分かるように，データの数が増えれば線は短く，モデルの数が増えれば線は長くなる．"
   ]
  },
  {
   "cell_type": "code",
   "execution_count": null,
   "metadata": {},
   "outputs": [],
   "source": [
    "import math\n",
    "CD = q_a * math.sqrt(len(df) * (len(df) + 1) / ( 6 * len(df.columns)))\n",
    "print('CD =',CD)"
   ]
  },
  {
   "cell_type": "markdown",
   "metadata": {},
   "source": [
    "グラフの描画"
   ]
  },
  {
   "cell_type": "code",
   "execution_count": null,
   "metadata": {},
   "outputs": [],
   "source": [
    "%matplotlib inline\n",
    "import matplotlib.pyplot as plt\n",
    "from pandas.plotting import scatter_matrix\n",
    "model_rs = model_rank.sort_values()\n",
    "plt.scatter(model_rs,model_rs.index,c='black')\n",
    "#点から伸びる直線（有意判定基準）の描画\n",
    "for i, model in enumerate(model_rs):\n",
    "    plt.plot([model,model+CD],[i,i], 'k-')\n",
    "plt.axvline(model_rs[0]+CD, ls = \"--\", color = \"black\")"
   ]
  },
  {
   "cell_type": "markdown",
   "metadata": {},
   "source": [
    "今回の場合，Model_Cのから上下に伸びる線の右端がModel_Eの左端より左にあるので，Model_CとModel_Eの間には有意差がある，ということになる．\n",
    "\n",
    "# おわりに\n",
    "自己責任でお使いください！"
   ]
  }
 ],
 "metadata": {
  "kernelspec": {
   "display_name": "Python 3",
   "language": "python",
   "name": "python3"
  },
  "language_info": {
   "codemirror_mode": {
    "name": "ipython",
    "version": 3
   },
   "file_extension": ".py",
   "mimetype": "text/x-python",
   "name": "python",
   "nbconvert_exporter": "python",
   "pygments_lexer": "ipython3",
   "version": "3.7.1"
  },
  "toc": {
   "base_numbering": 1,
   "nav_menu": {},
   "number_sections": true,
   "sideBar": true,
   "skip_h1_title": false,
   "title_cell": "Table of Contents",
   "title_sidebar": "Contents",
   "toc_cell": false,
   "toc_position": {},
   "toc_section_display": true,
   "toc_window_display": false
  }
 },
 "nbformat": 4,
 "nbformat_minor": 2
}
